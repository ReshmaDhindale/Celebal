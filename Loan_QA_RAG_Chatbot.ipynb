{
  "nbformat": 4,
  "nbformat_minor": 0,
  "metadata": {
    "colab": {
      "provenance": []
    },
    "kernelspec": {
      "name": "python3",
      "display_name": "Python 3"
    },
    "language_info": {
      "name": "python"
    },
    "widgets": {
      "application/vnd.jupyter.widget-state+json": {
        "bfc62d41c82c41b2bdf1b836f303e9ff": {
          "model_module": "@jupyter-widgets/controls",
          "model_name": "TextModel",
          "model_module_version": "1.5.0",
          "state": {
            "_dom_classes": [],
            "_model_module": "@jupyter-widgets/controls",
            "_model_module_version": "1.5.0",
            "_model_name": "TextModel",
            "_view_count": null,
            "_view_module": "@jupyter-widgets/controls",
            "_view_module_version": "1.5.0",
            "_view_name": "TextView",
            "continuous_update": true,
            "description": "You:",
            "description_tooltip": null,
            "disabled": false,
            "layout": "IPY_MODEL_430874ce18374213b0132b99a4d75e70",
            "placeholder": "Ask your loan question here...",
            "style": "IPY_MODEL_8a1aab37cf3c4e71b9f87227ef5ea2fd",
            "value": ""
          }
        },
        "430874ce18374213b0132b99a4d75e70": {
          "model_module": "@jupyter-widgets/base",
          "model_name": "LayoutModel",
          "model_module_version": "1.2.0",
          "state": {
            "_model_module": "@jupyter-widgets/base",
            "_model_module_version": "1.2.0",
            "_model_name": "LayoutModel",
            "_view_count": null,
            "_view_module": "@jupyter-widgets/base",
            "_view_module_version": "1.2.0",
            "_view_name": "LayoutView",
            "align_content": null,
            "align_items": null,
            "align_self": null,
            "border": null,
            "bottom": null,
            "display": null,
            "flex": null,
            "flex_flow": null,
            "grid_area": null,
            "grid_auto_columns": null,
            "grid_auto_flow": null,
            "grid_auto_rows": null,
            "grid_column": null,
            "grid_gap": null,
            "grid_row": null,
            "grid_template_areas": null,
            "grid_template_columns": null,
            "grid_template_rows": null,
            "height": null,
            "justify_content": null,
            "justify_items": null,
            "left": null,
            "margin": null,
            "max_height": null,
            "max_width": null,
            "min_height": null,
            "min_width": null,
            "object_fit": null,
            "object_position": null,
            "order": null,
            "overflow": null,
            "overflow_x": null,
            "overflow_y": null,
            "padding": null,
            "right": null,
            "top": null,
            "visibility": null,
            "width": "80%"
          }
        },
        "8a1aab37cf3c4e71b9f87227ef5ea2fd": {
          "model_module": "@jupyter-widgets/controls",
          "model_name": "DescriptionStyleModel",
          "model_module_version": "1.5.0",
          "state": {
            "_model_module": "@jupyter-widgets/controls",
            "_model_module_version": "1.5.0",
            "_model_name": "DescriptionStyleModel",
            "_view_count": null,
            "_view_module": "@jupyter-widgets/base",
            "_view_module_version": "1.2.0",
            "_view_name": "StyleView",
            "description_width": ""
          }
        },
        "7fbb56ab0cc647819f4d507fd870e355": {
          "model_module": "@jupyter-widgets/output",
          "model_name": "OutputModel",
          "model_module_version": "1.0.0",
          "state": {
            "_dom_classes": [],
            "_model_module": "@jupyter-widgets/output",
            "_model_module_version": "1.0.0",
            "_model_name": "OutputModel",
            "_view_count": null,
            "_view_module": "@jupyter-widgets/output",
            "_view_module_version": "1.0.0",
            "_view_name": "OutputView",
            "layout": "IPY_MODEL_c90f0e430ae446efae6787b555ee7c9a",
            "msg_id": "",
            "outputs": [
              {
                "output_type": "stream",
                "name": "stdout",
                "text": [
                  "🤖 Welcome to the Loan Approval Chatbot!\n",
                  "💬 Example questions:\n",
                  "   • What affects loan approval?\n",
                  "   • How does credit history impact approval?\n",
                  "   • What role does income play?\n",
                  "   • Does rural area impact approval?\n",
                  "\n",
                  "📝 Type your question and press Enter.\n",
                  "\n"
                ]
              },
              {
                "output_type": "stream",
                "name": "stdout",
                "text": [
                  "🧑 You: What affects loan approval?\n",
                  "🤖 Thinking...\n"
                ]
              },
              {
                "output_type": "stream",
                "name": "stderr",
                "text": [
                  "Both `max_new_tokens` (=256) and `max_length`(=100) seem to have been set. `max_new_tokens` will take precedence. Please refer to the documentation for more information. (https://huggingface.co/docs/transformers/main/en/main_classes/text_generation)\n"
                ]
              },
              {
                "output_type": "stream",
                "name": "stdout",
                "text": [
                  "🤖 Bot: The overall loan approval rate is 0.00%\n",
                  "\n"
                ]
              },
              {
                "output_type": "stream",
                "name": "stderr",
                "text": [
                  "Both `max_new_tokens` (=256) and `max_length`(=100) seem to have been set. `max_new_tokens` will take precedence. Please refer to the documentation for more information. (https://huggingface.co/docs/transformers/main/en/main_classes/text_generation)\n"
                ]
              },
              {
                "output_type": "stream",
                "name": "stdout",
                "text": [
                  "🧑 You: What role does income play?\n",
                  "🤖 Thinking...\n"
                ]
              },
              {
                "output_type": "stream",
                "name": "stdout",
                "text": [
                  "🤖 Bot: generally leads to higher approval chances. Urban and semiurban areas have higher approval rates than rural\n",
                  "\n"
                ]
              }
            ]
          }
        },
        "c90f0e430ae446efae6787b555ee7c9a": {
          "model_module": "@jupyter-widgets/base",
          "model_name": "LayoutModel",
          "model_module_version": "1.2.0",
          "state": {
            "_model_module": "@jupyter-widgets/base",
            "_model_module_version": "1.2.0",
            "_model_name": "LayoutModel",
            "_view_count": null,
            "_view_module": "@jupyter-widgets/base",
            "_view_module_version": "1.2.0",
            "_view_name": "LayoutView",
            "align_content": null,
            "align_items": null,
            "align_self": null,
            "border": null,
            "bottom": null,
            "display": null,
            "flex": null,
            "flex_flow": null,
            "grid_area": null,
            "grid_auto_columns": null,
            "grid_auto_flow": null,
            "grid_auto_rows": null,
            "grid_column": null,
            "grid_gap": null,
            "grid_row": null,
            "grid_template_areas": null,
            "grid_template_columns": null,
            "grid_template_rows": null,
            "height": null,
            "justify_content": null,
            "justify_items": null,
            "left": null,
            "margin": null,
            "max_height": null,
            "max_width": null,
            "min_height": null,
            "min_width": null,
            "object_fit": null,
            "object_position": null,
            "order": null,
            "overflow": null,
            "overflow_x": null,
            "overflow_y": null,
            "padding": null,
            "right": null,
            "top": null,
            "visibility": null,
            "width": null
          }
        }
      }
    }
  },
  "cells": [
    {
      "cell_type": "code",
      "execution_count": 19,
      "metadata": {
        "colab": {
          "base_uri": "https://localhost:8080/"
        },
        "id": "rflJj3Hlu9R0",
        "outputId": "5cecac93-8c34-4074-89ac-474c637deb94"
      },
      "outputs": [
        {
          "output_type": "stream",
          "name": "stdout",
          "text": [
            "Requirement already satisfied: transformers in /usr/local/lib/python3.11/dist-packages (4.53.1)\n",
            "Requirement already satisfied: scikit-learn in /usr/local/lib/python3.11/dist-packages (1.6.1)\n",
            "Requirement already satisfied: pandas in /usr/local/lib/python3.11/dist-packages (2.2.2)\n",
            "Requirement already satisfied: filelock in /usr/local/lib/python3.11/dist-packages (from transformers) (3.18.0)\n",
            "Requirement already satisfied: huggingface-hub<1.0,>=0.30.0 in /usr/local/lib/python3.11/dist-packages (from transformers) (0.33.2)\n",
            "Requirement already satisfied: numpy>=1.17 in /usr/local/lib/python3.11/dist-packages (from transformers) (2.0.2)\n",
            "Requirement already satisfied: packaging>=20.0 in /usr/local/lib/python3.11/dist-packages (from transformers) (24.2)\n",
            "Requirement already satisfied: pyyaml>=5.1 in /usr/local/lib/python3.11/dist-packages (from transformers) (6.0.2)\n",
            "Requirement already satisfied: regex!=2019.12.17 in /usr/local/lib/python3.11/dist-packages (from transformers) (2024.11.6)\n",
            "Requirement already satisfied: requests in /usr/local/lib/python3.11/dist-packages (from transformers) (2.32.3)\n",
            "Requirement already satisfied: tokenizers<0.22,>=0.21 in /usr/local/lib/python3.11/dist-packages (from transformers) (0.21.2)\n",
            "Requirement already satisfied: safetensors>=0.4.3 in /usr/local/lib/python3.11/dist-packages (from transformers) (0.5.3)\n",
            "Requirement already satisfied: tqdm>=4.27 in /usr/local/lib/python3.11/dist-packages (from transformers) (4.67.1)\n",
            "Requirement already satisfied: scipy>=1.6.0 in /usr/local/lib/python3.11/dist-packages (from scikit-learn) (1.15.3)\n",
            "Requirement already satisfied: joblib>=1.2.0 in /usr/local/lib/python3.11/dist-packages (from scikit-learn) (1.5.1)\n",
            "Requirement already satisfied: threadpoolctl>=3.1.0 in /usr/local/lib/python3.11/dist-packages (from scikit-learn) (3.6.0)\n",
            "Requirement already satisfied: python-dateutil>=2.8.2 in /usr/local/lib/python3.11/dist-packages (from pandas) (2.9.0.post0)\n",
            "Requirement already satisfied: pytz>=2020.1 in /usr/local/lib/python3.11/dist-packages (from pandas) (2025.2)\n",
            "Requirement already satisfied: tzdata>=2022.7 in /usr/local/lib/python3.11/dist-packages (from pandas) (2025.2)\n",
            "Requirement already satisfied: fsspec>=2023.5.0 in /usr/local/lib/python3.11/dist-packages (from huggingface-hub<1.0,>=0.30.0->transformers) (2025.3.2)\n",
            "Requirement already satisfied: typing-extensions>=3.7.4.3 in /usr/local/lib/python3.11/dist-packages (from huggingface-hub<1.0,>=0.30.0->transformers) (4.14.1)\n",
            "Requirement already satisfied: hf-xet<2.0.0,>=1.1.2 in /usr/local/lib/python3.11/dist-packages (from huggingface-hub<1.0,>=0.30.0->transformers) (1.1.5)\n",
            "Requirement already satisfied: six>=1.5 in /usr/local/lib/python3.11/dist-packages (from python-dateutil>=2.8.2->pandas) (1.17.0)\n",
            "Requirement already satisfied: charset-normalizer<4,>=2 in /usr/local/lib/python3.11/dist-packages (from requests->transformers) (3.4.2)\n",
            "Requirement already satisfied: idna<4,>=2.5 in /usr/local/lib/python3.11/dist-packages (from requests->transformers) (3.10)\n",
            "Requirement already satisfied: urllib3<3,>=1.21.1 in /usr/local/lib/python3.11/dist-packages (from requests->transformers) (2.4.0)\n",
            "Requirement already satisfied: certifi>=2017.4.17 in /usr/local/lib/python3.11/dist-packages (from requests->transformers) (2025.7.9)\n"
          ]
        }
      ],
      "source": [
        "!pip install transformers scikit-learn pandas\n"
      ]
    },
    {
      "cell_type": "code",
      "source": [
        "from IPython.display import Markdown, display\n",
        "\n",
        "def show_header():\n",
        "    display(Markdown(\"\"\"\n",
        "# 🤖 Loan Approval Q&A Chatbot using RAG\n",
        "Welcome to a Retrieval-Augmented Generation (RAG) chatbot that answers questions about loan approvals.\n",
        "\n",
        "- 🔍 Retrieves facts using TF-IDF from the dataset\n",
        "- 🧠 Generates answers using Google's FLAN-T5 model\n",
        "- 📊 Based on real-world loan approval data from Kaggle\n",
        "\n",
        "---\n",
        "\"\"\"))\n",
        "\n",
        "show_header()\n"
      ],
      "metadata": {
        "colab": {
          "base_uri": "https://localhost:8080/",
          "height": 185
        },
        "id": "PR3S28jsw4iL",
        "outputId": "da09b88d-9600-4081-fba0-5a79209359fb"
      },
      "execution_count": 20,
      "outputs": [
        {
          "output_type": "display_data",
          "data": {
            "text/plain": [
              "<IPython.core.display.Markdown object>"
            ],
            "text/markdown": "\n# 🤖 Loan Approval Q&A Chatbot using RAG\nWelcome to a Retrieval-Augmented Generation (RAG) chatbot that answers questions about loan approvals.\n\n- 🔍 Retrieves facts using TF-IDF from the dataset  \n- 🧠 Generates answers using Google's FLAN-T5 model  \n- 📊 Based on real-world loan approval data from Kaggle  \n\n---\n"
          },
          "metadata": {}
        }
      ]
    },
    {
      "cell_type": "code",
      "source": [
        "import pandas as pd\n",
        "\n",
        "# Load data\n",
        "df = pd.read_csv(\"Training Dataset.csv\")\n",
        "\n",
        "# Fix fillna warning\n",
        "df = df.ffill()\n",
        "\n",
        "# Normalize Loan_Status\n",
        "df['Loan_Status'] = df['Loan_Status'].astype(str).str.upper()\n",
        "\n",
        "# Generate knowledge base\n",
        "total = len(df)\n",
        "if 'Y' in df['Loan_Status'].unique():\n",
        "    approval_rate = df['Loan_Status'].value_counts(normalize=True)['Y'] * 100\n",
        "else:\n",
        "    approval_rate = 0\n",
        "\n",
        "# Check if Credit_History is clean\n",
        "if 'Credit_History' in df.columns:\n",
        "    credit_impact = df.groupby('Credit_History')['Loan_Status'].value_counts(normalize=True).unstack()\n",
        "else:\n",
        "    credit_impact = pd.DataFrame()\n",
        "\n",
        "knowledge_base = []\n",
        "knowledge_base.append(f\"There are {total} loan applications.\")\n",
        "knowledge_base.append(f\"The overall loan approval rate is {approval_rate:.2f}%.\")\n",
        "\n",
        "# Safe handling for credit history\n",
        "try:\n",
        "    ch1 = credit_impact.loc[1, 'Y'] * 100\n",
        "    ch0 = credit_impact.loc[0, 'Y'] * 100\n",
        "    knowledge_base.append(f\"Credit history = 1 approval rate: {ch1:.2f}%.\")\n",
        "    knowledge_base.append(f\"Credit history = 0 approval rate: {ch0:.2f}%.\")\n",
        "except:\n",
        "    knowledge_base.append(\"Could not compute approval rate by credit history.\")\n",
        "\n",
        "knowledge_base.append(\"Higher income usually leads to higher approval chances.\")\n",
        "knowledge_base.append(\"Self-employed applicants have slightly lower approval rates.\")\n",
        "knowledge_base.append(\"Urban and semiurban areas have higher approval rates than rural.\")\n"
      ],
      "metadata": {
        "id": "HxcmQbC3vOC6"
      },
      "execution_count": 21,
      "outputs": []
    },
    {
      "cell_type": "code",
      "source": [
        "from sklearn.feature_extraction.text import TfidfVectorizer\n",
        "from sklearn.metrics.pairwise import cosine_similarity\n",
        "\n",
        "# TF-IDF setup\n",
        "vectorizer = TfidfVectorizer()\n",
        "doc_vectors = vectorizer.fit_transform(knowledge_base)\n",
        "\n",
        "def retrieve_docs(query, k=2):\n",
        "    query_vec = vectorizer.transform([query])\n",
        "    similarities = cosine_similarity(query_vec, doc_vectors).flatten()\n",
        "    top_k = similarities.argsort()[::-1][:k]\n",
        "    return [knowledge_base[i] for i in top_k]\n"
      ],
      "metadata": {
        "id": "PFEB-NHgvQDP"
      },
      "execution_count": 23,
      "outputs": []
    },
    {
      "cell_type": "code",
      "source": [
        "from transformers import pipeline\n",
        "\n",
        "# Load FLAN-T5 model\n",
        "generator = pipeline(\"text2text-generation\", model=\"google/flan-t5-small\")\n",
        "\n",
        "def generate_answer(query, context):\n",
        "    prompt = f\"Answer the question: {query}\\nContext: {context}\"\n",
        "    result = generator(prompt, max_length=100)[0]['generated_text']\n",
        "    return result\n"
      ],
      "metadata": {
        "colab": {
          "base_uri": "https://localhost:8080/"
        },
        "id": "-31SfPhRvqOT",
        "outputId": "c398c08d-e331-4c04-9315-a2f8efedfb83"
      },
      "execution_count": 24,
      "outputs": [
        {
          "output_type": "stream",
          "name": "stderr",
          "text": [
            "Device set to use cpu\n"
          ]
        }
      ]
    },
    {
      "cell_type": "code",
      "source": [
        "import time\n",
        "from IPython.display import Markdown, display\n",
        "\n",
        "def print_typing(text, delay=0.02):\n",
        "    \"\"\"Simulate typing effect\"\"\"\n",
        "    for char in text:\n",
        "        print(char, end='', flush=True)\n",
        "        time.sleep(delay)\n",
        "    print()\n",
        "\n",
        "def chat():\n",
        "    display(Markdown(\"### 🤖 Welcome to the **Loan Approval Q&A Chatbot**!\"))\n",
        "    print(\"💬 You can ask questions like:\")\n",
        "    print(\"  • What affects loan approval?\")\n",
        "    print(\"  • How does credit history impact approval?\")\n",
        "    print(\"  • What role does income play in loan approval?\\n\")\n",
        "    print(\"Type 'exit' to quit at any time.\\n\")\n",
        "\n",
        "    session_num = 1\n",
        "    chat_log = []\n",
        "\n",
        "    while True:\n",
        "        query = input(f\"🧑‍💼 You [{session_num}]: \").strip()\n",
        "        if not query:\n",
        "            print(\"⚠️ Please enter a valid question.\")\n",
        "            continue\n",
        "\n",
        "        if query.lower() == 'exit':\n",
        "            print(\"\\n👋 Thank you for using the chatbot. Goodbye!\")\n",
        "            break\n",
        "\n",
        "        print(\"🤖 Bot is thinking...\\n\")\n",
        "        context = \" \".join(retrieve_docs(query))\n",
        "        answer = generate_answer(query, context)\n",
        "\n",
        "        print_typing(f\"🤖 Chatbot [{session_num}]: {answer}\")\n",
        "\n",
        "        chat_log.append((query, answer))\n",
        "        session_num += 1\n",
        "\n"
      ],
      "metadata": {
        "id": "ZEFb9HYavr_O"
      },
      "execution_count": 25,
      "outputs": []
    },
    {
      "cell_type": "code",
      "source": [
        "import ipywidgets as widgets\n",
        "from IPython.display import display, clear_output\n",
        "\n",
        "# Input box\n",
        "text_box = widgets.Text(\n",
        "    placeholder='Ask your loan question here...',\n",
        "    description='You:',\n",
        "    layout=widgets.Layout(width='80%')\n",
        ")\n",
        "\n",
        "# Output area\n",
        "output_box = widgets.Output()\n",
        "\n",
        "# Display welcome message\n",
        "with output_box:\n",
        "    clear_output()\n",
        "    print(\"🤖 Welcome to the Loan Approval Chatbot!\")\n",
        "    print(\"💬 Example questions:\")\n",
        "    print(\"   • What affects loan approval?\")\n",
        "    print(\"   • How does credit history impact approval?\")\n",
        "    print(\"   • What role does income play?\")\n",
        "    print(\"   • Does rural area impact approval?\\n\")\n",
        "    print(\"📝 Type your question and press Enter.\\n\")\n",
        "\n",
        "# Callback when user hits Enter\n",
        "def on_submit(widget):\n",
        "    query = widget.value # Access the value directly from the widget\n",
        "    if query.lower() == 'exit':\n",
        "        with output_box:\n",
        "            print(\"👋 Goodbye!\")\n",
        "        return\n",
        "\n",
        "    with output_box:\n",
        "        print(f\"🧑 You: {query}\")\n",
        "        print(\"🤖 Thinking...\")\n",
        "        context = \" \".join(retrieve_docs(query))\n",
        "        answer = generate_answer(query, context)\n",
        "        print(f\"🤖 Bot: {answer}\\n\")\n",
        "\n",
        "    text_box.value = ''\n",
        "\n",
        "text_box.on_submit(on_submit)\n",
        "\n",
        "# Display both input and output\n",
        "display(text_box, output_box)"
      ],
      "metadata": {
        "colab": {
          "base_uri": "https://localhost:8080/",
          "height": 500,
          "referenced_widgets": [
            "bfc62d41c82c41b2bdf1b836f303e9ff",
            "430874ce18374213b0132b99a4d75e70",
            "8a1aab37cf3c4e71b9f87227ef5ea2fd",
            "7fbb56ab0cc647819f4d507fd870e355",
            "c90f0e430ae446efae6787b555ee7c9a"
          ]
        },
        "id": "5mZVNbMeyCmr",
        "outputId": "3d113acb-1708-47e1-c0e9-1fa5711836cf"
      },
      "execution_count": 27,
      "outputs": [
        {
          "output_type": "display_data",
          "data": {
            "text/plain": [
              "Text(value='', description='You:', layout=Layout(width='80%'), placeholder='Ask your loan question here...')"
            ],
            "application/vnd.jupyter.widget-view+json": {
              "version_major": 2,
              "version_minor": 0,
              "model_id": "bfc62d41c82c41b2bdf1b836f303e9ff"
            }
          },
          "metadata": {}
        },
        {
          "output_type": "display_data",
          "data": {
            "text/plain": [
              "Output()"
            ],
            "application/vnd.jupyter.widget-view+json": {
              "version_major": 2,
              "version_minor": 0,
              "model_id": "7fbb56ab0cc647819f4d507fd870e355"
            }
          },
          "metadata": {}
        }
      ]
    },
    {
      "cell_type": "code",
      "source": [],
      "metadata": {
        "id": "9RUng6HyzERD"
      },
      "execution_count": 26,
      "outputs": []
    }
  ]
}